{
 "cells": [
  {
   "cell_type": "code",
   "execution_count": 1,
   "id": "7206db0c",
   "metadata": {},
   "outputs": [],
   "source": [
    "import h5py"
   ]
  },
  {
   "cell_type": "code",
   "execution_count": 33,
   "id": "20d8c418",
   "metadata": {},
   "outputs": [
    {
     "name": "stdout",
     "output_type": "stream",
     "text": [
      "Group/Dataset: Header\n",
      "  Attribute key: BoxSize\n",
      "  Attribute key: CompactLevel\n",
      "  Attribute key: Compactify_Version\n",
      "  Attribute key: Flag_Cooling\n",
      "  Attribute key: Flag_DoublePrecision\n",
      "  Attribute key: Flag_Feedback\n",
      "  Attribute key: Flag_IC_Info\n",
      "  Attribute key: Flag_Metals\n",
      "  Attribute key: Flag_Sfr\n",
      "  Attribute key: Flag_StellarAge\n",
      "  Attribute key: HubbleParam\n",
      "  Attribute key: MassTable\n",
      "  Attribute key: NumFilesPerSnapshot\n",
      "  Attribute key: NumPart_ThisFile\n",
      "  Attribute key: NumPart_Total\n",
      "  Attribute key: NumPart_Total_HighWord\n",
      "  Attribute key: Omega0\n",
      "  Attribute key: OmegaLambda\n",
      "  Attribute key: ReadMe\n",
      "  Attribute key: Redshift\n",
      "  Attribute key: Time\n",
      "Group/Dataset: PartType0\n",
      "Group/Dataset: PartType0/Coordinates\n",
      "Group/Dataset: PartType0/Density\n",
      "Group/Dataset: PartType0/ElectronAbundance\n",
      "Group/Dataset: PartType0/InternalEnergy\n",
      "Group/Dataset: PartType0/Masses\n",
      "Group/Dataset: PartType0/Metallicity\n",
      "Group/Dataset: PartType0/NeutralHydrogenAbundance\n",
      "Group/Dataset: PartType0/ParticleChildIDsNumber\n",
      "Group/Dataset: PartType0/ParticleIDGenerationNumber\n",
      "Group/Dataset: PartType0/ParticleIDs\n",
      "Group/Dataset: PartType0/Potential\n",
      "Group/Dataset: PartType0/SmoothingLength\n",
      "Group/Dataset: PartType0/StarFormationRate\n",
      "Group/Dataset: PartType0/Velocities\n",
      "Group/Dataset: PartType1\n",
      "Group/Dataset: PartType1/Coordinates\n",
      "Group/Dataset: PartType1/Masses\n",
      "Group/Dataset: PartType1/ParticleChildIDsNumber\n",
      "Group/Dataset: PartType1/ParticleIDGenerationNumber\n",
      "Group/Dataset: PartType1/ParticleIDs\n",
      "Group/Dataset: PartType1/Potential\n",
      "Group/Dataset: PartType1/Velocities\n",
      "Group/Dataset: PartType2\n",
      "Group/Dataset: PartType2/Coordinates\n",
      "Group/Dataset: PartType2/Masses\n",
      "Group/Dataset: PartType2/ParticleChildIDsNumber\n",
      "Group/Dataset: PartType2/ParticleIDGenerationNumber\n",
      "Group/Dataset: PartType2/ParticleIDs\n",
      "Group/Dataset: PartType2/Potential\n",
      "Group/Dataset: PartType2/Velocities\n",
      "Group/Dataset: PartType4\n",
      "Group/Dataset: PartType4/Coordinates\n",
      "Group/Dataset: PartType4/Masses\n",
      "Group/Dataset: PartType4/Metallicity\n",
      "Group/Dataset: PartType4/ParticleChildIDsNumber\n",
      "Group/Dataset: PartType4/ParticleIDGenerationNumber\n",
      "Group/Dataset: PartType4/ParticleIDs\n",
      "Group/Dataset: PartType4/Potential\n",
      "Group/Dataset: PartType4/StellarFormationTime\n",
      "Group/Dataset: PartType4/Velocities\n",
      "1\n"
     ]
    }
   ],
   "source": [
    "# Function to print the keys of attributes in each group or dataset\n",
    "def print_keys(name, obj):\n",
    "    print(f\"Group/Dataset: {name}\")\n",
    "    for key in obj.attrs.keys():\n",
    "        print(f\"  Attribute key: {key}\")\n",
    "\n",
    "file_dir = './snapdir_120/snapshot_120.0.hdf5'\n",
    "# Open the HDF5 file\n",
    "with h5py.File(file_dir, 'r') as hdf:    \n",
    "    # Visit each item in the HDF5 file and print its attribute keys\n",
    "    hdf.visititems(print_keys)\n",
    "    \n",
    "    header = hdf[\"Header\"]\n",
    "    \n",
    "    # Retrieve the attribute\n",
    "    print(header.attrs['Flag_Sfr'])\n",
    "    "
   ]
  },
  {
   "cell_type": "code",
   "execution_count": 19,
   "id": "99d4c93a",
   "metadata": {},
   "outputs": [
    {
     "ename": "ValueError",
     "evalue": "Invalid location identifier (invalid identifier type to function)",
     "output_type": "error",
     "traceback": [
      "\u001b[0;31m---------------------------------------------------------------------------\u001b[0m",
      "\u001b[0;31mValueError\u001b[0m                                Traceback (most recent call last)",
      "\u001b[0;32m<ipython-input-19-40a28086656c>\u001b[0m in \u001b[0;36m<module>\u001b[0;34m\u001b[0m\n\u001b[0;32m----> 1\u001b[0;31m \u001b[0mheader\u001b[0m\u001b[0;34m.\u001b[0m\u001b[0mattrs\u001b[0m\u001b[0;34m[\u001b[0m\u001b[0;34m'BoxSize'\u001b[0m\u001b[0;34m]\u001b[0m\u001b[0;34m\u001b[0m\u001b[0;34m\u001b[0m\u001b[0m\n\u001b[0m",
      "\u001b[0;32mh5py/_objects.pyx\u001b[0m in \u001b[0;36mh5py._objects.with_phil.wrapper\u001b[0;34m()\u001b[0m\n",
      "\u001b[0;32mh5py/_objects.pyx\u001b[0m in \u001b[0;36mh5py._objects.with_phil.wrapper\u001b[0;34m()\u001b[0m\n",
      "\u001b[0;32m~/.local/lib/python3.6/site-packages/h5py/_hl/attrs.py\u001b[0m in \u001b[0;36m__getitem__\u001b[0;34m(self, name)\u001b[0m\n\u001b[1;32m     54\u001b[0m         \"\"\" Read the value of an attribute.\n\u001b[1;32m     55\u001b[0m         \"\"\"\n\u001b[0;32m---> 56\u001b[0;31m         \u001b[0mattr\u001b[0m \u001b[0;34m=\u001b[0m \u001b[0mh5a\u001b[0m\u001b[0;34m.\u001b[0m\u001b[0mopen\u001b[0m\u001b[0;34m(\u001b[0m\u001b[0mself\u001b[0m\u001b[0;34m.\u001b[0m\u001b[0m_id\u001b[0m\u001b[0;34m,\u001b[0m \u001b[0mself\u001b[0m\u001b[0;34m.\u001b[0m\u001b[0m_e\u001b[0m\u001b[0;34m(\u001b[0m\u001b[0mname\u001b[0m\u001b[0;34m)\u001b[0m\u001b[0;34m)\u001b[0m\u001b[0;34m\u001b[0m\u001b[0;34m\u001b[0m\u001b[0m\n\u001b[0m\u001b[1;32m     57\u001b[0m \u001b[0;34m\u001b[0m\u001b[0m\n\u001b[1;32m     58\u001b[0m         \u001b[0;32mif\u001b[0m \u001b[0mis_empty_dataspace\u001b[0m\u001b[0;34m(\u001b[0m\u001b[0mattr\u001b[0m\u001b[0;34m)\u001b[0m\u001b[0;34m:\u001b[0m\u001b[0;34m\u001b[0m\u001b[0;34m\u001b[0m\u001b[0m\n",
      "\u001b[0;32mh5py/_objects.pyx\u001b[0m in \u001b[0;36mh5py._objects.with_phil.wrapper\u001b[0;34m()\u001b[0m\n",
      "\u001b[0;32mh5py/_objects.pyx\u001b[0m in \u001b[0;36mh5py._objects.with_phil.wrapper\u001b[0;34m()\u001b[0m\n",
      "\u001b[0;32mh5py/h5a.pyx\u001b[0m in \u001b[0;36mh5py.h5a.open\u001b[0;34m()\u001b[0m\n",
      "\u001b[0;31mValueError\u001b[0m: Invalid location identifier (invalid identifier type to function)"
     ]
    }
   ],
   "source": [
    "header.attrs['BoxSize']"
   ]
  },
  {
   "cell_type": "code",
   "execution_count": null,
   "id": "04ba0d13",
   "metadata": {},
   "outputs": [],
   "source": []
  }
 ],
 "metadata": {
  "kernelspec": {
   "display_name": "Python 3",
   "language": "python",
   "name": "python3"
  },
  "language_info": {
   "codemirror_mode": {
    "name": "ipython",
    "version": 3
   },
   "file_extension": ".py",
   "mimetype": "text/x-python",
   "name": "python",
   "nbconvert_exporter": "python",
   "pygments_lexer": "ipython3",
   "version": "3.6.8"
  }
 },
 "nbformat": 4,
 "nbformat_minor": 5
}
